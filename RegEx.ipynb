{
  "nbformat": 4,
  "nbformat_minor": 0,
  "metadata": {
    "colab": {
      "name": "RegEx.ipynb",
      "provenance": [],
      "authorship_tag": "ABX9TyOHZkYBiw0/yaALcoky/5Io",
      "include_colab_link": true
    },
    "kernelspec": {
      "name": "python3",
      "display_name": "Python 3"
    }
  },
  "cells": [
    {
      "cell_type": "markdown",
      "metadata": {
        "id": "view-in-github",
        "colab_type": "text"
      },
      "source": [
        "<a href=\"https://colab.research.google.com/github/ncadavia/RegEx/blob/main/RegEx.ipynb\" target=\"_parent\"><img src=\"https://colab.research.google.com/assets/colab-badge.svg\" alt=\"Open In Colab\"/></a>"
      ]
    },
    {
      "cell_type": "code",
      "metadata": {
        "id": "F32Ivc1Em2Ps"
      },
      "source": [
        "import re\r\n",
        "import numpy as np\r\n",
        "from urllib.request import urlretrieve\r\n",
        "url = \"https://raw.githubusercontent.com/ncadavia/RegEx/main/ActaConstitutivaEjemplo-224125.txt\"\r\n",
        "acta = urlretrieve(url, 'Este.txt')"
      ],
      "execution_count": 1,
      "outputs": []
    },
    {
      "cell_type": "code",
      "metadata": {
        "id": "Egez1Zk2nNVV"
      },
      "source": [
        "def fun_leer(archivo):\r\n",
        "    return open(archivo, 'r')"
      ],
      "execution_count": 2,
      "outputs": []
    },
    {
      "cell_type": "code",
      "metadata": {
        "id": "OwebonSGpkhi"
      },
      "source": [
        "def fun_esc(archivo):\r\n",
        "    return open(archivo, 'w')"
      ],
      "execution_count": 3,
      "outputs": []
    },
    {
      "cell_type": "code",
      "metadata": {
        "id": "BlHxTPQcnfa1"
      },
      "source": [
        "def limpieza(archivo):\r\n",
        "    acta = fun_leer(archivo)\r\n",
        "    lineas_texto = acta.readlines()\r\n",
        "    lineas0 = [k.strip() for k in lineas_texto]\r\n",
        "    lineas1 = [k for k in lineas0 if k] \r\n",
        "    lineas2 = [k.replace('\\\"', '\\'') for k in lineas1]\r\n",
        "    lineas3 = [k.replace(\"«\", '\\'') for k in lineas2]\r\n",
        "    lineas4 = [k.replace(\"»\", '\\'') for k in lineas3]\r\n",
        "    lineas5 = [k.replace(\"“\", '\\'') for k in lineas4]\r\n",
        "    lineas6 = [k.replace(\"”\", '\\'') for k in lineas5]\r\n",
        "    lineas7 = ' '.join(lineas6)\r\n",
        "    return(lineas7)"
      ],
      "execution_count": 4,
      "outputs": []
    },
    {
      "cell_type": "code",
      "metadata": {
        "id": "37xw26kbosk_"
      },
      "source": [
        "Acta = limpieza(\"Este.txt\")"
      ],
      "execution_count": 5,
      "outputs": []
    },
    {
      "cell_type": "code",
      "metadata": {
        "colab": {
          "base_uri": "https://localhost:8080/"
        },
        "id": "BA1O-Z9so3V6",
        "outputId": "5b3b74cb-cefb-49d2-8559-e0b3ba547cc2"
      },
      "source": [
        "print(Acta)"
      ],
      "execution_count": 6,
      "outputs": [
        {
          "output_type": "stream",
          "text": [
            "Acta Constitutiva de Sociedad Anónima de Capital Variable Escritura 4673 Fojas 34 a 36 Volumen 20 En la Ciudad Juárez, en el estado de Chihuahua, a los 16 días del mes de marzo de 1999, siendo las 15, 45 quince horas cuarenta y cinco minutos, yo, Licenciado Raúl Pérez, notario público número 14 catorce, doy fe del Contrato de Sociedad Mercantil, de forma Anónima, con Capital Variable, otorgado por los ciudadanos Alan Smith, Jorge Blanco, Esther Zambrano y Manuel Fernández, todos mayores de edad, legalmente hábiles, de nacionalidad mexicana y residenciados en la Ciudad Juárez y HAGO CONSTAR que aceptan los acuerdos mencionados a continuación. Primero. Por voluntad propia y de manera libre, los asistentes ocurren para conformar una Sociedad Mercantil, de figura Anónima y de Capital Variable, que a partir de este momento la sociedad se denominará 'Frutería La Guadalupe', seguido de silgas S. A., C. V. Segundo. La sociedad tiene por objeto la venta y distribución de frutas, legumbres y hortalizas, pudiendo ejecutar: 1. La compra, venta, importación, exportación y distribución de su mercancía en el territorio nacional. 2. Contratar activa o pasivamente, celebrar convenios, contratos y formar parte de otras asociaciones con objeto social similar a este. Tercero. La duración de esta sociedad será de 99 noventa y nueve años, a partir de la fecha y firma de la escritura correspondiente. Cuarto. El domicilio legal de la sociedad estará ubicado en la calle Santiago Blancas, colonia Héroes de la Revolución, código postal 32696 tres dos seis nueve seis, en Ciudad Juárez, estado de Chihuahua. Quinto. Su Capital Social es variable, con un mínimo fijado en 1, 000, 000, 00 un millón de pesos, representado por cien acciones de 250, 000, 00 doscientos cincuenta mil pesos, con valor nominal de 2,500 pesos por acción. Sexto. Cada una de las cláusulas está sujeta a lo estipulado en la Ley General de Sociedades Mercantiles, en sus artículos 89, 90 y 91 así como cualquier otra disposición que sus asociados crean conveniente. Séptimo. En caso de disolución, sin importar las condiciones y de acuerdo al reglamento vigente, la sociedad anónima liquidará las ganancias obtenidas en partes iguales entre sus socios. Octavo. Se asignan los siguientes cargos conforme lo acordado Director. Alan Smith. Residenciado en calle Santiago Blancas, DNI 334455. Contabilidad. Jorge Blanco. Residenciado en calle Capulín, número 33. DNI 556677. Administración. Esther Zambrano. Con residencia en calle Santiago Blancas, DNI 998877. Logística. Manuel Fernández. Con residencia en Avenida Casso López, DNI 998077. Certificaciones Yo, Licenciado Raúl Pérez, notario, certifico que: + Los comparecientes me exhiben el permiso otorgado por la Secretaría de Relaciones Exteriores el 10 de enero de 1999 para la conformación de esta sociedad. e Lorelacionado concuerda con el documento que tengo a la vista. + Conozco a los comparecientes de vista y trato y doy fe de ser legalmente hábiles, capaces de contratarse. . Que los 4 cuatro socios ratificaron como su voluntad la creación de la sociedad anónima 'Frutería La Guadalupe', dedicada a prestar servicios en el sector Alimentación. e Las huellas y firmas expuestas en esta acta corresponden a cada uno de los socios. e Tanto las bases expuestas anteriormente, como los artículos correspondientes del Código Civil fueron leídos en voz alta y aprobados de forma unánime por sus miembros. Así firmo y doy fe en la fecha respectiva.\n"
          ],
          "name": "stdout"
        }
      ]
    },
    {
      "cell_type": "code",
      "metadata": {
        "id": "CgmsON2Lo49l"
      },
      "source": [
        "# fecha creación acta\r\n",
        "pdate1 = r\"(\\d{2})\\sdías\\sdel\\smes\\sde\\s(\\w+)\\sde\\s(\\d{4})\"\r\n",
        "date = re.findall(pdate1, Acta)\r\n",
        "fecha = fun_esc(\"fecha.txt\")\r\n",
        "fecha.write('|'.join(date[0]))\r\n",
        "fecha.close()"
      ],
      "execution_count": 7,
      "outputs": []
    },
    {
      "cell_type": "code",
      "metadata": {
        "id": "WJdS235zpc6u"
      },
      "source": [
        "# nombre notario\r\n",
        "pnotario = r\"(?:Licenciado)\\s([A-ZÁÉÍÓÚÑ][a-záéíóúñ]+\\s[A-ZÁÉÍÓÚÑ][a-záéíóúñ]+)\"\r\n",
        "notario = np.unique(np.array(re.findall(pnotario, Acta)))\r\n",
        "nombre_notario = fun_esc(\"nombre_notario.txt\")\r\n",
        "nombre_notario.write(''.join(notario[0]))\r\n",
        "nombre_notario.close()"
      ],
      "execution_count": 8,
      "outputs": []
    },
    {
      "cell_type": "code",
      "metadata": {
        "id": "E9v3d8WgrEyX"
      },
      "source": [
        "# número notario\r\n",
        "pnum_notario = r\"(?:público\\snúmero)\\s(\\d{3}|\\w+)\"\r\n",
        "num_notario = re.findall(pnum_notario, Acta)\r\n",
        "numero_notario = fun_esc(\"numero_notario.txt\")\r\n",
        "numero_notario.write(''.join(num_notario))\r\n",
        "numero_notario.close()"
      ],
      "execution_count": 9,
      "outputs": []
    },
    {
      "cell_type": "code",
      "metadata": {
        "id": "BJ8zGXuKsN9o"
      },
      "source": [
        "#accionistas\r\n",
        "p_acc_ini = r\"s(\\s[A-Z][a-z]+\\s[A-Z][a-záéíóú]+)\"\r\n",
        "AccIni = re.findall(p_acc_ini, Acta)\r\n",
        "\r\n",
        "p_acc_int = r\"(?<=,\\s)([A-Z][a-z]+\\s[A-Z][a-z]+)(?:[\\s,|\\sy])\"\r\n",
        "AccInt = re.findall(p_acc_int, Acta)\r\n",
        "\r\n",
        "p_acc_fin = r\"y\\s([A-Z][a-z]+\\s[A-Z][a-záéíóú]+)\"\r\n",
        "AccFin = re.findall(p_acc_fin, Acta)\r\n",
        "\r\n",
        "Acc = AccIni + AccInt + AccFin\r\n",
        "\r\n",
        "accionistas = fun_esc(\"accionistas.txt\")\r\n",
        "accionistas.write('|'.join(Acc))\r\n",
        "accionistas.close()"
      ],
      "execution_count": 10,
      "outputs": []
    },
    {
      "cell_type": "code",
      "metadata": {
        "id": "ICx4CDyRwd8K"
      },
      "source": [
        "#nombre empresa\r\n",
        "p_soc = r\"(?<= ')[^']+(?=')\"\r\n",
        "emp = np.unique(np.array(re.findall(p_soc, Acta)))\r\n",
        "nombre_empresa = fun_esc(\"nombre_empresa.txt\")\r\n",
        "nombre_empresa.write(''.join(emp))\r\n",
        "nombre_empresa.close()"
      ],
      "execution_count": 11,
      "outputs": []
    }
  ]
}